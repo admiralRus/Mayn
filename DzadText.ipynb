{
  "nbformat": 4,
  "nbformat_minor": 0,
  "metadata": {
    "colab": {
      "provenance": [],
      "authorship_tag": "ABX9TyPC4Ps5dF6Clmt+2s/vS2GT",
      "include_colab_link": true
    },
    "kernelspec": {
      "name": "python3",
      "display_name": "Python 3"
    },
    "language_info": {
      "name": "python"
    }
  },
  "cells": [
    {
      "cell_type": "markdown",
      "metadata": {
        "id": "view-in-github",
        "colab_type": "text"
      },
      "source": [
        "<a href=\"https://colab.research.google.com/github/admiralRus/Mayn/blob/main/DzadText.ipynb\" target=\"_parent\"><img src=\"https://colab.research.google.com/assets/colab-badge.svg\" alt=\"Open In Colab\"/></a>"
      ]
    },
    {
      "cell_type": "code",
      "execution_count": null,
      "metadata": {
        "id": "zlIzZMuOpnjS"
      },
      "outputs": [],
      "source": [
        "import pandas as pd # загружаем библиотеки\n",
        "import matplotlib.pyplot as plt\n",
        "import seaborn as sns\n",
        "import numpy as np\n",
        "import scipy.stats as stats\n",
        "import pymorphy2\n",
        "import dask.bag as db\n",
        "import string"
      ]
    },
    {
      "cell_type": "code",
      "source": [
        "#устанавливаем библиотеку\n",
        "!pip install pymorphy2"
      ],
      "metadata": {
        "id": "WiB9ODlApvd7"
      },
      "execution_count": null,
      "outputs": []
    },
    {
      "cell_type": "code",
      "source": [
        "#скопируем текст"
      ],
      "metadata": {
        "id": "7VOuzQpEp0bz"
      },
      "execution_count": null,
      "outputs": []
    },
    {
      "cell_type": "code",
      "source": [
        "#прочитаем содержимое файла, чтобы понять, что текст есть\n",
        "with open('input.txt', 'r') as file:\n",
        "  file_contents = file.readlines()\n",
        "  db.read_text('input.txt').str.strip().str.split('\\n')"
      ],
      "metadata": {
        "id": "HgLgSsSwp0eh"
      },
      "execution_count": null,
      "outputs": []
    },
    {
      "cell_type": "code",
      "source": [
        "# Инициализация pymorphy2\n",
        "morph = pymorphy2.MorphAnalyzer()\n",
        "\n",
        "# Функция для обработки текста и извлечения ключевых слов\n",
        "def process_text(text):\n",
        "    words = [word.lower().translate(str.maketrans('', '', string.punctuation)) for word in text]\n",
        "    lemmatized_words = [morph.parse(word)[0].normal_form for word in words]\n",
        "    return [word for word in lemmatized_words if len(word) >= 3]\n",
        "\n",
        "# Считываем текст из файла 'input.txt'\n",
        "data = db.read_text('input.txt').str.strip().str.split()\n",
        "\n",
        "# Создаем Dask Bag\n",
        "bag = db.from_sequence(data)\n",
        "\n",
        "# Применяем функцию к тексту\n",
        "keywords = bag.map(process_text)\n",
        "\n",
        "# Объединяем ключевые слова в один список\n",
        "all_keywords = keywords.flatten()\n",
        "\n",
        "# Подсчитываем количество вхождений каждого ключевого слова\n",
        "keyword_counts = all_keywords.frequencies()\n",
        "\n",
        "# Выводим результат\n",
        "print(keyword_counts.compute())"
      ],
      "metadata": {
        "id": "vkqRxCj9p0hR"
      },
      "execution_count": null,
      "outputs": []
    },
    {
      "cell_type": "code",
      "source": [
        "#выведем в датафрейм результаты, для анализа и группировки данных\n",
        "result = pd.DataFrame(keyword_counts, columns = ['Слова', 'Количество'])\n",
        "result"
      ],
      "metadata": {
        "id": "8IvMfKF6p0j9"
      },
      "execution_count": null,
      "outputs": []
    },
    {
      "cell_type": "code",
      "source": [
        "#отсортируем слова по уменьшению количества повторений в тексте\n",
        "#выведем 50 слов\n",
        "result = result.sort_values(by=\"Количество\", ascending=False).head(50)\n",
        "result"
      ],
      "metadata": {
        "id": "g0S5Ff1vp0qp"
      },
      "execution_count": null,
      "outputs": []
    },
    {
      "cell_type": "code",
      "source": [
        "#построим диагрмамму плотности распределения слов\n",
        "sns.kdeplot(result[\"Количество\"])"
      ],
      "metadata": {
        "id": "ZWjB3CCWqnBE"
      },
      "execution_count": null,
      "outputs": []
    },
    {
      "cell_type": "code",
      "source": [
        "#удалим некотоыре слова, чтобы посмотиреть несколько популярных слов в тексте, которые имеют свое определение\n",
        "result_fltr = result[~result[\"Слова\"].str.contains(\"быть|они|что|как|это|свой|весь|тот|всё|ещё\")]\n",
        "result_fltr"
      ],
      "metadata": {
        "id": "In_C90ueqnQr"
      },
      "execution_count": null,
      "outputs": []
    },
    {
      "cell_type": "markdown",
      "source": [
        "В домашнем задании провели анализ рассказа Артура Конана Дойла \"Как капитан Шарки и Стивен Крэддок перехитрили друг друга\" из школьной программы внеклассного чтения. Самым пипоулярными словами в тексе оказались имена главных героев капитанов - Крэддок и Шарки."
      ],
      "metadata": {
        "id": "6UD-e4Nhq7Ux"
      }
    },
    {
      "cell_type": "code",
      "source": [],
      "metadata": {
        "id": "zoD2CXcrq-vX"
      },
      "execution_count": null,
      "outputs": []
    }
  ]
}