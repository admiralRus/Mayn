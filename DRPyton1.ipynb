{
  "nbformat": 4,
  "nbformat_minor": 0,
  "metadata": {
    "colab": {
      "provenance": [],
      "authorship_tag": "ABX9TyOtTRHmkpma/wabkE4N58WK",
      "include_colab_link": true
    },
    "kernelspec": {
      "name": "python3",
      "display_name": "Python 3"
    },
    "language_info": {
      "name": "python"
    }
  },
  "cells": [
    {
      "cell_type": "markdown",
      "metadata": {
        "id": "view-in-github",
        "colab_type": "text"
      },
      "source": [
        "<a href=\"https://colab.research.google.com/github/admiralRus/Mayn/blob/main/DRPyton1.ipynb\" target=\"_parent\"><img src=\"https://colab.research.google.com/assets/colab-badge.svg\" alt=\"Open In Colab\"/></a>"
      ]
    },
    {
      "cell_type": "code",
      "source": [
        "# Задача - Создать таблицу умножения, используя ДатаФрейм и цикл\n",
        "# подключаем библиотеку времени\n",
        "import time\n",
        "#создаём переменную и присваиваем ей продолжительность задержек между текстом\n",
        "t=2.0\n",
        "#приветствуем пользователя\n",
        "name=input('Здравствуйте, представьтесь пожалуйста: ')\n",
        "time.sleep(t)\n",
        "print(name, 'cейчас мы с вами создадим таблицу умножения\\n', sep = \", \")\n",
        "time.sleep(t)\n",
        "print('Для начала давайте подключим нужную библиотеку')\n",
        "# подключаем библиотеку\n",
        "import pandas as pd\n",
        "time.sleep(t)\n",
        "print('pd - подключенно\\n')\n",
        "# позволяем пользователю выбрать длину таблицы\n",
        "l=(1+int(input('Теперь нужно выбрать длину таблицы. Укажите пожалуйста целое число: ')))\n",
        "time.sleep(t)\n",
        "# создаём переменную и присавиваем ей тип ДатаФрейм\n",
        "print('Далее создадим переменную и присвоем ей значение типа ДатаФрейм')\n",
        "tabl = pd.DataFrame()\n",
        "time.sleep(t)\n",
        "print('переменная tabl - создана\\n')\n",
        "time.sleep(t)\n",
        "print(name, 'не отвлекаемся, т.к. сейчас будет...', sep=', ')\n",
        "time.sleep(t-0.5)\n",
        "# оживляем пользователя\n",
        "print('....будет...')\n",
        "time.sleep(t-0.5)\n",
        "print('....вот-вот уже....')\n",
        "time.sleep(t-0.5)\n",
        "print('...будет создан цикл со вложением!\\n')\n",
        "time.sleep(t)\n",
        "print('Во как!')\n",
        "# создаём цикл + вложенный цикл\n",
        "for i in range(1,l):\n",
        "    for j in range(1,l):\n",
        "      x=int(i*j)\n",
        "      tabl.loc[i,j]=x\n",
        "time.sleep(t)\n",
        "print('Цикл создан!\\n')\n",
        "time.sleep(t)\n",
        "print(name, 'позвольте представить вам:\\n', sep = \", \")\n",
        "time.sleep(t)\n",
        "print('ТА! ДА! М!\\n')\n",
        "time.sleep(t)\n",
        "#преобразуем тип элементов таблицы в целые числа\n",
        "tabl=tabl.astype(int)\n",
        "#выводим результат на экран\n",
        "tabl\n"
      ],
      "metadata": {
        "id": "6V9TaIwXYziz"
      },
      "execution_count": null,
      "outputs": []
    },
    {
      "cell_type": "code",
      "source": [
        "#выводим элемент по его индексу\n",
        "print('Красота!\\n')\n",
        "print(name, 'давайте выведем на экран конкретный элемент нашей таблицы\\n', sep = \", \")\n",
        "time.sleep(t)\n",
        "r=l-1\n",
        "print('Внимание!\\n')\n",
        "time.sleep(t)\n",
        "print('Наша таблица имеет размер', r, 'столбцов на ', r, ' строк')\n",
        "time.sleep(t)\n",
        "x=int(input('выберите номер столбца (введя целое число в указанных выше границах): ',))\n",
        "y=int(input('выберите номер строки (введя целое число в указанных выше границах): '))\n",
        "time.sleep(t)\n",
        "print(name,'приготовьтесь\\n', sep = \", \")\n",
        "time.sleep(t)\n",
        "print('Искомый вами элемент равен ',tabl.loc[x,y])"
      ],
      "metadata": {
        "id": "1pqWv4F9rGkA"
      },
      "execution_count": null,
      "outputs": []
    }
  ]
}